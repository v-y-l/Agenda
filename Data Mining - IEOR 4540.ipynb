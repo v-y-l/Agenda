{
  "nbformat": 4,
  "nbformat_minor": 0,
  "metadata": {
    "colab": {
      "provenance": [],
      "collapsed_sections": [
        "1VhRANga1rES",
        "ZRHox2gLfZjr",
        "Rv3knyOqDEr1",
        "tLpt4exQFmF_",
        "2gzAv-CxoYKn",
        "AcxB_jYvoTIt",
        "qHItLzITyePc",
        "deiVRpArp22G"
      ],
      "include_colab_link": true
    },
    "kernelspec": {
      "name": "python3",
      "display_name": "Python 3"
    },
    "language_info": {
      "name": "python"
    }
  },
  "cells": [
    {
      "cell_type": "markdown",
      "metadata": {
        "id": "view-in-github",
        "colab_type": "text"
      },
      "source": [
        "<a href=\"https://colab.research.google.com/github/v-y-l/Agenda/blob/master/Data%20Mining%20-%20IEOR%204540.ipynb\" target=\"_parent\"><img src=\"https://colab.research.google.com/assets/colab-badge.svg\" alt=\"Open In Colab\"/></a>"
      ]
    },
    {
      "cell_type": "markdown",
      "source": [
        "# Problem 3\n",
        "\n",
        "**Problem 3: Linearization of the feedforward layers in Neural Networks**\n",
        "\n",
        "Consider a feedforward layer of the following form, where $\\mathbf{W} \\in \\mathbb{R}^{d \\times d}, \\mathbf{x}, \\mathbf{y} \\in \\mathbb{R}^d$ :\n",
        "$$\n",
        "\\mathbf{y}=f(\\mathbf{W} \\mathbf{x})                        \n",
        "$$\n",
        "\n",
        "Assume that $f$ is a GELU function. Propose an algorithm to approximate it via the following \"linearized variant\", where $\\Phi: \\mathbb{R}^{d \\times d} \\rightarrow \\mathbb{R}^{d \\times m}, \\Psi: \\mathbb{R}^d \\rightarrow \\mathbb{R}^m$ are some functions (to be constructed by you):\n",
        "$$\n",
        "\\mathbf{y}^{\\prime}=\\Phi(\\mathbf{W}) \\Psi(\\mathbf{x}) .\n",
        "$$\n",
        "\n",
        "The approximation does not need to be unbiased. Can you propose the unbiased variant ?\n"
      ],
      "metadata": {
        "id": "PWnbBNiCt8Fj"
      }
    },
    {
      "cell_type": "markdown",
      "source": [
        "# Jicheol, Lisa, Victor: Context"
      ],
      "metadata": {
        "id": "1VhRANga1rES"
      }
    },
    {
      "cell_type": "markdown",
      "source": [
        "## Creating a synthetic dataset\n"
      ],
      "metadata": {
        "id": "ZRHox2gLfZjr"
      }
    },
    {
      "cell_type": "code",
      "source": [
        "import math\n",
        "import matplotlib.pyplot as plt\n",
        "import torch\n",
        "from scipy.special import erf"
      ],
      "metadata": {
        "id": "hzOloJ1pilvV"
      },
      "execution_count": null,
      "outputs": []
    },
    {
      "cell_type": "code",
      "source": [
        "import numpy as np\n",
        "\n",
        "# Choosing d = 10 so we can see meaningful interactions between features\n",
        "# via weights, but small enough to visualize and run efficient experiments.\n",
        "d = 10\n",
        "\n",
        "# Don't use np.random.rand(d, 1), which doesn't consider negatives since it\n",
        "# takes a uniform distribution of [0,1]. Our dataset should consider negatives,\n",
        "# since gelu accepts them.\n",
        "#\n",
        "# Mean = 0, std dev = 1 should be fine, since most inputs are normalized anyway.\n",
        "x = np.random.normal(loc=0, scale=1, size=(d, 1))\n",
        "print(\"Layer shape of x: \", x.shape)\n",
        "print(x)\n",
        "\n",
        "\n",
        "W = np.random.normal(loc=0, scale=1, size=(d, d))\n",
        "print(\"Layer shape of W: \", W.shape)\n",
        "print(W)\n"
      ],
      "metadata": {
        "id": "j4ZMiF8MKjjf",
        "colab": {
          "base_uri": "https://localhost:8080/"
        },
        "outputId": "3502c22f-5047-4e8e-e9da-2238c66f697f"
      },
      "execution_count": null,
      "outputs": [
        {
          "output_type": "stream",
          "name": "stdout",
          "text": [
            "Layer shape of x:  (10, 1)\n",
            "[[ 1.50427133]\n",
            " [ 0.12883938]\n",
            " [ 2.25638834]\n",
            " [ 0.88788649]\n",
            " [ 1.08481095]\n",
            " [ 1.45251453]\n",
            " [-0.53818156]\n",
            " [-0.49495873]\n",
            " [-0.26553295]\n",
            " [ 0.05059396]]\n",
            "Layer shape of W:  (10, 10)\n",
            "[[ 1.66975456  0.52391017  0.63067868 -0.05602936 -0.41535352  1.56239377\n",
            "  -0.52607486 -0.52445412  0.19798323 -1.54899586]\n",
            " [ 1.67165437  2.09326596 -0.1202136  -2.49351689 -0.86552997  0.23419346\n",
            "  -0.74472836  0.49668319 -1.69102042 -0.22994001]\n",
            " [ 1.15991586  0.54098766 -1.12550547 -0.08318706  0.66258887  1.13547324\n",
            "   0.58006594  1.65811478 -0.13611404  0.3619377 ]\n",
            " [ 0.23079591 -1.44466371  0.22468241  0.2947248   0.89686078 -0.29632867\n",
            "   0.6431502   1.10552663  0.17947478 -1.16208568]\n",
            " [ 0.27857126  0.97351403  1.30013342 -0.55359863  0.43286264 -0.52946618\n",
            "  -1.21382828  0.1856267   0.39737849 -0.17268367]\n",
            " [-0.84699473  0.59677227  1.62965161  0.52783984 -0.84032197  2.03213274\n",
            "  -1.29475423  2.12160854  1.7596552  -0.07258691]\n",
            " [-1.23906294 -0.96370007 -1.19646823  0.98765085  1.04996262 -1.6940743\n",
            "   0.63280704 -1.06947633 -0.02094411 -1.04603889]\n",
            " [ 0.53878288 -0.24006146 -0.89339336 -0.4842041   0.2486608   1.0145981\n",
            "  -1.48580557  0.51799251  0.13029898  0.80405737]\n",
            " [ 0.7279246  -0.75535455  1.99655852  0.68670539 -1.06282935  0.45617879\n",
            "  -0.53509558 -1.32204411  0.50022913 -0.24743772]\n",
            " [ 0.73408477 -0.78607151  0.26296502  0.37228494  0.80460231 -0.39733941\n",
            "  -0.54688191 -2.6707418  -0.8280928  -0.08018259]]\n"
          ]
        }
      ]
    },
    {
      "cell_type": "code",
      "source": [
        "y = np.matmul(W, x)\n",
        "print(\"Layer shape of y: \", y.shape)\n",
        "print(y)"
      ],
      "metadata": {
        "colab": {
          "base_uri": "https://localhost:8080/"
        },
        "id": "-4vx-_ImqLhZ",
        "outputId": "7b857a18-bf25-4cc7-c8ef-b9f695bb317f"
      },
      "execution_count": null,
      "outputs": [
        {
          "output_type": "stream",
          "name": "stdout",
          "text": [
            "Layer shape of y:  (10, 1)\n",
            "[[ 6.18315814]\n",
            " [ 0.29269077]\n",
            " [ 0.49074109]\n",
            " [ 0.47243311]\n",
            " [ 3.13419227]\n",
            " [ 4.16446378]\n",
            " [-4.99106139]\n",
            " [ 0.62658407]\n",
            " [ 6.41903159]\n",
            " [ 4.05464171]]\n"
          ]
        }
      ]
    },
    {
      "cell_type": "markdown",
      "source": [
        "## GELU through tanh\n",
        "\n",
        "\n"
      ],
      "metadata": {
        "id": "-wLkpEvCpR7G"
      }
    },
    {
      "cell_type": "code",
      "source": [
        "# tanh approximation\n",
        "def gelu_tanh(x):\n",
        "    return 0.5 * x * (1 + np.tanh(np.sqrt(2 / np.pi) * (x + 0.044715 * x**3)))"
      ],
      "metadata": {
        "id": "Dd7JcVJjoDYB"
      },
      "execution_count": null,
      "outputs": []
    },
    {
      "cell_type": "code",
      "source": [
        "# erf approximation\n",
        "def gelu_erf(x):\n",
        "    return 0.5 * x * (1 + erf(x/np.sqrt(2)))"
      ],
      "metadata": {
        "id": "LexK1lC7jBRp"
      },
      "execution_count": null,
      "outputs": []
    },
    {
      "cell_type": "markdown",
      "source": [
        "## True Value of GELU"
      ],
      "metadata": {
        "id": "HfhP9RESopge"
      }
    },
    {
      "cell_type": "markdown",
      "source": [
        "\n",
        "Given $W$ ∈ $\\mathbb{R}^{d\\times d}$, $x$, $y$ ∈ $\\mathbb{R}^{d}$, another way to approximate is using CDF:\n",
        "\n",
        "$GELU(x)$ = $x$ $P(X <= x)$ = $x {\\Phi}(x)$\n",
        "\n",
        "\n"
      ],
      "metadata": {
        "id": "DpnjAS6Oea2y"
      }
    },
    {
      "cell_type": "code",
      "source": [
        "#This section is synonymous to tanh approximation, but using CDF instead. We are using the definition of GELU to set as a standard.\n",
        "#CDF is the cumulative distribution function for finding area under a standard normal function.\n",
        "\n",
        "from scipy.stats import norm\n",
        "phi_x = norm.cdf(y)\n",
        "print(\"shape of phi_x: \", phi_x.shape)\n",
        "print(\"phi_x: \", phi_x)\n",
        "\n",
        "GELU_x = y * phi_x\n",
        "print(\"shape of GELU_x: \", GELU_x.shape)\n",
        "print(\"GELU_x: \", GELU_x)"
      ],
      "metadata": {
        "colab": {
          "base_uri": "https://localhost:8080/"
        },
        "id": "2Fdb_2GhX5fZ",
        "outputId": "ebe334e9-cf81-423c-80b4-b90d79f83d1e"
      },
      "execution_count": null,
      "outputs": [
        {
          "output_type": "stream",
          "name": "stdout",
          "text": [
            "shape of phi_x:  (10, 1)\n",
            "phi_x:  [[1.00000000e+00]\n",
            " [6.15120739e-01]\n",
            " [6.88195210e-01]\n",
            " [6.81691163e-01]\n",
            " [9.99138361e-01]\n",
            " [9.99984396e-01]\n",
            " [3.00242029e-07]\n",
            " [7.34534042e-01]\n",
            " [1.00000000e+00]\n",
            " [9.99974894e-01]]\n",
            "shape of GELU_x:  (10, 1)\n",
            "GELU_x:  [[ 6.18315814e+00]\n",
            " [ 1.80040165e-01]\n",
            " [ 3.37725669e-01]\n",
            " [ 3.22053477e-01]\n",
            " [ 3.13149173e+00]\n",
            " [ 4.16439879e+00]\n",
            " [-1.49852640e-06]\n",
            " [ 4.60247328e-01]\n",
            " [ 6.41903159e+00]\n",
            " [ 4.05453992e+00]]\n"
          ]
        }
      ]
    },
    {
      "cell_type": "markdown",
      "source": [
        "## **Below we show our biased approximation for a Taylor Series Expansion:**"
      ],
      "metadata": {
        "id": "Rv3knyOqDEr1"
      }
    },
    {
      "cell_type": "markdown",
      "source": [
        "let\n",
        "$f(x)= \\frac{1}{{\\sqrt {2\\pi } }}e^{ - \\frac{{z^2 }}{2}} = .3989e^{ - 5z^2 }$ be the standard normal density function and\n",
        "\n",
        "let\n",
        "$F(x)={\\frac{1}{\\sqrt{2\\pi}}}\\int_{-\\infty }^{x}e^{-t^{2}/2}\\,dt $\n",
        "be the standard normal cumulative distribution function\n",
        "\n",
        "We compute a Taylor series expansion:\n",
        "\n",
        "\\begin{equation}\n",
        "\\begin{aligned}\n",
        "G(x) & =\\int \\frac{1}{\\sqrt{2 \\pi}} e^{\\frac{-1}{2} x^2} d x \\\\\n",
        "& =\\frac{1}{\\sqrt{2 \\pi}} \\int \\sum_{n=0}^{\\infty} \\frac{(-1)^n}{n!2^n} x^{2 n} d x \\\\\n",
        "& =\\frac{1}{\\sqrt{2 \\pi}} \\sum_{n=0}^{\\infty} \\frac{(-1)^n}{n!2^n(2 n+1)} x^{2 n+1} \\\\\n",
        "& =\\frac{1}{\\sqrt{2 \\pi}}\\left(x-\\frac{1}{6} x^3+\\frac{1}{40} x^5-\\frac{1}{336} x^7+\\cdots\\right)\n",
        "\\end{aligned}\n",
        "\\end{equation}\n",
        "\n"
      ],
      "metadata": {
        "id": "YyaOevDIhLM4"
      }
    },
    {
      "cell_type": "code",
      "source": [
        "#TODO: Fix the +0.5 to the function and multiply by x\n",
        "\n",
        "def gelu_taylor_basic(x):\n",
        "  leading_coefficient = 1/math.sqrt(2*math.pi)\n",
        "  term1 = leading_coefficient * (x)\n",
        "  term2 = -leading_coefficient * (x**3)/6\n",
        "  term3 = leading_coefficient * (x**5)/40\n",
        "  term4 = -leading_coefficient * (x**7)/336\n",
        "  term5 = leading_coefficient * (x**9)/2480\n",
        "  term6 = -leading_coefficient * (x**11)/40320\n",
        "  term7 = leading_coefficient * (x**13)/6227040\n",
        "  return x*(0.5 + term1 + term2 + term3 + term4)\n",
        "\n",
        "#Taylor approximation using n terms, recursion\n",
        "def gelu_taylor_recursive(x, n):\n",
        "  leading_coefficient = 1/math.sqrt(2*math.pi)\n",
        "  if n == 0:\n",
        "    #first term means that there is only x\n",
        "    #this is the base case\n",
        "    return 0.5+leading_coefficient *((-1)**n) * (x**(2*n+1))/(math.factorial(n)*(2**n)*(2*n+1))\n",
        "  else:\n",
        "    #Recursion step, adding terms iteratively\n",
        "    return gelu_taylor_recursive(x, n-1) + leading_coefficient * (-1)**n / (math.factorial(n) * (2**n) * (2*n+1)) * x**(2*n+1)\n",
        "\n",
        "# Taylor approximation using n terms, for-loop\n",
        "def gelu_taylor(x,n):\n",
        "  leading_coefficient = 1/np.sqrt(2*np.pi)\n",
        "  sum = 0\n",
        "  for i in range(n):\n",
        "    sum += (-1)**i / (math.factorial(i)* (2**i) * (2*i+1)) * x**(2*i+1)\n",
        "  return x * (0.5+leading_coefficient*sum)"
      ],
      "metadata": {
        "id": "b5rbHny9kiN_"
      },
      "execution_count": null,
      "outputs": []
    },
    {
      "cell_type": "code",
      "source": [
        "#sample input\n",
        "\n",
        "x = 0.5\n",
        "n = 100\n",
        "print(\"Tanh approximation: \", gelu_tanh(x))\n",
        "print(\"Erf approximation: \", gelu_erf(x))\n",
        "print(\"Taylor polynomial: \", gelu_taylor(x,n))\n",
        "print(\"Base case Taylor polynomial: \", gelu_taylor_basic(x)) # Adding terms by brute force\n",
        "print(\"Taylor polynomial, recursive case\", x * gelu_taylor_recursive(x,n)) #need to multiply by x because of the function is taylor of standard normal cdf"
      ],
      "metadata": {
        "colab": {
          "base_uri": "https://localhost:8080/"
        },
        "id": "40L_MrmC-0N5",
        "outputId": "a7b3dd32-37b7-4b20-ba9c-feb52c2d979a"
      },
      "execution_count": null,
      "outputs": [
        {
          "output_type": "stream",
          "name": "stdout",
          "text": [
            "Tanh approximation:  0.34571400982514394\n",
            "Erf approximation:  0.3457312306370065\n",
            "Taylor polynomial:  0.34573123063700656\n",
            "Base case Taylor polynomial:  0.3457311201736166\n",
            "Taylor polynomial, recursive case 0.3457312306370065\n"
          ]
        }
      ]
    },
    {
      "cell_type": "markdown",
      "source": [
        "## **Activation functions show similar trends across five approximations**"
      ],
      "metadata": {
        "id": "tLpt4exQFmF_"
      }
    },
    {
      "cell_type": "code",
      "source": [
        "x = np.linspace(-5, 5, 1000)\n",
        "\n",
        "plt.figure(figsize = (10,6))\n",
        "plt.plot(x, gelu_tanh(x), label='GELU (tanh)')\n",
        "plt.plot(x, gelu_erf(x), label='GELU (erf)', linestyle='--')\n",
        "plt.plot(x, gelu_taylor(x,100), label='GELU (taylor)', linestyle='-')\n",
        "plt.plot(x, x*gelu_taylor_recursive(x, 100), label='GELU (taylor_recursive)')\n",
        "#plt.plot(x, [gelu_MC(i,100) for i in x], label='GELU (MC)', linestyle='-')\n",
        "plt.xlabel('x')\n",
        "plt.ylabel('GELU(x)')\n",
        "plt.legend(['Tanh approximation', 'erf approximation', 'Taylor approximation', 'Taylor recursive approximation', 'Monte Carlo approximation'])\n",
        "plt.show()"
      ],
      "metadata": {
        "colab": {
          "base_uri": "https://localhost:8080/",
          "height": 542
        },
        "id": "Q4JArVoD9P_-",
        "outputId": "00708edc-e985-4d17-9856-e9cbdc346bf2"
      },
      "execution_count": null,
      "outputs": [
        {
          "output_type": "display_data",
          "data": {
            "text/plain": [
              "<Figure size 1000x600 with 1 Axes>"
            ],
            "image/png": "[encoded data removed]"
          },
          "metadata": {}
        }
      ]
    },
    {
      "cell_type": "markdown",
      "source": [
        "# Victor: **Phi and psi for GELU Taylor Series approximation (biased estimation)**"
      ],
      "metadata": {
        "id": "2gzAv-CxoYKn"
      }
    },
    {
      "cell_type": "markdown",
      "source": [
        "## Preparing the GELU Taylor Series approximation for decomposition into phi and psi\n",
        "\n",
        "GELU is an element-wise activation function.\n",
        "\n",
        "Let the first transformed dimension be $x_1' = W_1x'$. The first row of $W$ is applied to $x$ to produce $x'$.\n",
        "\n",
        "By working out $\\phi$ and $\\psi$ for $x_1'$, we can expand it to all dimensions of $x$ wlog.\n",
        "\n",
        "Approximating GELU using Taylor series = $\\frac{x_1'}{2} + \\frac{x_1'}{2\\pi}\\sum_{n=0}^{\\infty}\\frac{(-1)^n}{n!(2n+1)}x_1'^{2n+1}\n",
        "= \\frac{x_1'}{2} + \\frac{(x_1')^2}{\\sqrt{2\\pi}} - \\frac{(x_1')^4}{6\\sqrt{2\\pi}} + \\frac{(x_1')^6}{40\\sqrt{2\\pi}} - \\frac{(x_1')^8}{336\\sqrt{2\\pi}} + ...$\n",
        "\n",
        "Notice that once expanded, the approximation takes the form\n",
        "$a_0(W_1x) + a_1(W_1x)^2 + a_2(W_1x)^4 + ...$\n"
      ],
      "metadata": {
        "id": "ui5K3mHM0bGK"
      }
    },
    {
      "cell_type": "markdown",
      "source": [
        "## Defining phi and psi\n",
        "\n",
        "Each term in the GELU approximation is an exponentiated dot product, that once expanded, can be decomposed into phi and psi using Kronecker products.\n",
        "\n",
        "\n",
        "### First term\n",
        "\n",
        "This is easiest to understand by examing the first term:\n",
        "\n",
        "* $a_1(\\sum_{i=1}^{d}w_ix_i)^2$ = $\\sum_{i=1}^{d}\\sum_{j=1}^{d}(W_i W_j x_i x_j$), where $d$ is the of dimensions of $x$.\n",
        "\n",
        "For example, when $d = 2$,  $a_0\\sum_{i=1}^{2}\\sum_{j=1}^{2}(W_i W_j x_i x_j) = w_1^2x_1^2 + w_1w_2x_1x_2 + w_2w_1x_2x_1 + w_2^2x_2^2$.\n",
        "\n",
        "Which can be written as a dot of:\n",
        "\n",
        "$\\begin{pmatrix}\n",
        "w_1^2 &&\n",
        "w_1w_2 &&\n",
        "w_2w_1 &&\n",
        "w_2 ^2\n",
        "\\end{pmatrix} \\begin{pmatrix} x_1^2 \\\\\n",
        "x_1x_2 \\\\\n",
        "x_2x_1 \\\\\n",
        "x_2 ^2 \\end{pmatrix}$\n",
        "\n",
        "\n",
        "The left side is a Cartesian combination of $W_1$ to itself. The right side is the Cartesian combination of $x$ to itself.\n",
        "\n",
        "$a_1(\\sum_{i=1}^{d}w_ix_i)^2 = a_1*(W  \\otimes W) (x \\otimes x)^T.$\n",
        "\n",
        "### Second term\n",
        "\n",
        "If we apply the same logic, we see that:\n",
        "\n",
        "$a_2(\\sum_{i=1}^{d}w_ix_i)^4 = a_1*(W  \\otimes W \\otimes W \\otimes W) (x \\otimes x \\otimes x \\otimes x)^T$"
      ],
      "metadata": {
        "id": "BJXn9RG5lD0k"
      }
    },
    {
      "cell_type": "markdown",
      "source": [
        "## Generalization\n",
        "$a_n \\left(\\sum_{i=1}^d w_i x_i\\right)^{2n} = a_n \\Big( W^{\\otimes 2n} \\Big) \\cdot \\Big( x^{\\otimes 2n} \\Big)^T$, where $n$ is the term."
      ],
      "metadata": {
        "id": "velATGVGoL-a"
      }
    },
    {
      "cell_type": "markdown",
      "source": [
        "## Implementation: The 5-term Taylor Series approximation as phi and psi\n",
        "\n",
        "### 5-term Taylor series approximaton range\n",
        "\n",
        "This shows us that the $x'$ should be within $[3, 3]$ in our demonstration.\n",
        "\n",
        "\\begin{array}{|c|c|}\n",
        "\\hline\n",
        "\\text{Range of }Wx & \\text{Max Error} \\\\\n",
        "\\hline\n",
        "[-1,1]   & 9\\times10^{-6}        \\\\\n",
        "[-3,3]   & 3.0                   \\\\\n",
        "[-5,5]   & 7.8\\times10^{2}       \\\\\n",
        "[-7,7]   & 2.7\\times10^{4}       \\\\\n",
        "\\hline\n",
        "\\end{array}\n"
      ],
      "metadata": {
        "id": "69CrNmX6eauM"
      }
    },
    {
      "cell_type": "code",
      "source": [
        "# Generate dataset to stay within range of 'good' accuracy\n",
        "import numpy as np\n",
        "x = np.array([1,.1,2])\n",
        "W = np.array([\n",
        "    [-0.8, -0.8, -0.8],\n",
        "    [.5, .5, .5],\n",
        "    [.2, .3, 1]\n",
        "])\n",
        "x_prime = W @ x\n",
        "print(\"x_prime = Wx = \", x_prime)"
      ],
      "metadata": {
        "colab": {
          "base_uri": "https://localhost:8080/"
        },
        "id": "OanMrVT7t5UJ",
        "outputId": "4e7301f7-8c71-4633-ecc5-00d7e38cf270"
      },
      "execution_count": null,
      "outputs": [
        {
          "output_type": "stream",
          "name": "stdout",
          "text": [
            "x_prime = Wx =  [-2.48  1.55  2.23]\n"
          ]
        }
      ]
    },
    {
      "cell_type": "code",
      "source": [
        "import math\n",
        "import numpy as np\n",
        "\n",
        "class TaylorSeriesGeluEstimator:\n",
        "    def __init__(self, n_terms):\n",
        "        self.n = n_terms\n",
        "        self.coeffs = self._compute_coeffs()\n",
        "        # exponents for the monomials: [1, 2, 4, 6, …, 2n]\n",
        "        self.powers = [1] + [2*i + 2 for i in range(self.n)]\n",
        "\n",
        "    def _compute_coeffs(self):\n",
        "        \"\"\" Gathers the Taylor‐series coefficients [0.5, …] up through n_terms. \"\"\"\n",
        "        coeffs = [0.5]\n",
        "        base = 1 / math.sqrt(2 * math.pi)\n",
        "        for i in range(self.n):\n",
        "            c = (-1)**i / (math.factorial(i) * (2**i) * (2*i + 1))\n",
        "            coeffs.append(base * c)\n",
        "        return coeffs\n",
        "\n",
        "    def _kron_n(self, vec, times):\n",
        "        \"\"\" Compute vec ⨂ vec ⨂ … ⨂ vec (times times). \"\"\"\n",
        "        out = vec\n",
        "        for _ in range(times - 1):\n",
        "            out = np.kron(out, vec)\n",
        "        return out\n",
        "\n",
        "    def transform(self, vec, coeffs=None):\n",
        "        \"\"\"\n",
        "        Build a single feature vector:\n",
        "          [ coeffs[0] * vec^1, coeffs[1] * vec^2, coeffs[2] * vec^4, … ]\n",
        "        If coeffs is None, we assume all 1’s (for ψ).\n",
        "        \"\"\"\n",
        "        if coeffs is None:\n",
        "            coeffs = [1.0] * len(self.powers)\n",
        "\n",
        "        parts = []\n",
        "        for c, p in zip(coeffs, self.powers):\n",
        "            parts.append(c * self._kron_n(vec, p))\n",
        "        return np.concatenate(parts)\n",
        "\n",
        "    def get_phi(self, W):\n",
        "        \"\"\"\n",
        "        W: 2‑D array of shape (n_rows, d).\n",
        "        Returns φ of shape (n_rows, feature_dim).\n",
        "        \"\"\"\n",
        "        rows = [self.transform(w, self.coeffs) for w in W]\n",
        "        return np.vstack(rows)\n",
        "\n",
        "    def get_psi(self, x):\n",
        "        \"\"\"\n",
        "        x: 1‑D vector of length d.\n",
        "        Returns ψ of shape (feature_dim,), with no Taylor weights.\n",
        "        \"\"\"\n",
        "        return self.transform(x, coeffs=None)\n",
        "\n",
        "estimator = TaylorSeriesGeluEstimator(n_terms=5)\n",
        "phi = estimator.get_phi(W)\n",
        "psi = estimator.get_psi(x)\n",
        "phi_dot_psi = phi.dot(psi)"
      ],
      "metadata": {
        "id": "pOvulV2lBvDY"
      },
      "execution_count": null,
      "outputs": []
    },
    {
      "cell_type": "code",
      "source": [
        "import math\n",
        "\n",
        "class GELUComparator:\n",
        "\n",
        "  def __init__(self, n):\n",
        "    self.n = n\n",
        "\n",
        "  # Tanh approximation of Wx\n",
        "  def gelu_tanh(self, x):\n",
        "      return 0.5 * x * (1 + np.tanh(np.sqrt(2/np.pi) * (x + 0.044715 * np.power(x, 3))))\n",
        "\n",
        "  # GELU approximation of Wx using n terms\n",
        "  def gelu_taylor(self, x):\n",
        "    n = self.n\n",
        "    leading_coefficient = 1/np.sqrt(2*np.pi)\n",
        "    sum = 0\n",
        "    for i in range(n):\n",
        "      sum += (-1)**i / (math.factorial(i)* (2**i) * (2*i+1)) * x**(2*i+1)\n",
        "    return x * (0.5+leading_coefficient*sum)\n",
        "\n",
        "  def get_error(self, actual, expected):\n",
        "    return np.sqrt(np.mean((actual - expected)**2))\n",
        "\n",
        "  def compare_gelu(self, x_prime, phi_dot_psi):\n",
        "    n = self.n\n",
        "    print(\"==== Tanh VS Taylor Series ({0} terms) ====\\n\".format(n))\n",
        "\n",
        "    actual_gelu_taylor = self.gelu_taylor(x_prime)\n",
        "    expected_tanh = self.gelu_tanh(x_prime)\n",
        "    print(\"x_prime = Wx = \", x_prime)\n",
        "    print(\"gelu_taylor_{0}(x_prime) = {1}\".format(n, actual_gelu_taylor))\n",
        "    print(\"phi_dot_psi: \", phi_dot_psi)\n",
        "    print(\"gelu_tanh(x_prime) = \", expected_tanh)\n",
        "\n",
        "    error = self.get_error(actual_gelu_taylor, expected_tanh)\n",
        "    error_phi_dot_psi = self.get_error(actual_gelu_taylor, phi_dot_psi)\n",
        "    print(\"\\nError of GELU n = {0} against tanh: {1}\".format(n, error))\n",
        "    print(\"\\nError of phi_dot_psi against GELU n = {0}: {1}\".format(n,\n",
        "                                                            error_phi_dot_psi))\n",
        "\n",
        "GELUComparator(5).compare_gelu(x_prime, phi_dot_psi)"
      ],
      "metadata": {
        "colab": {
          "base_uri": "https://localhost:8080/"
        },
        "id": "po2HhyFMuGIN",
        "outputId": "7b6de7d7-1f25-449c-f078-05b86573e15e"
      },
      "execution_count": null,
      "outputs": [
        {
          "output_type": "stream",
          "name": "stdout",
          "text": [
            "==== Tanh VS Taylor Series (5 terms) ====\n",
            "\n",
            "x_prime = Wx =  [-2.48  1.55  2.23]\n",
            "gelu_taylor_5(x_prime) = [0.33582152 1.45766421 2.30608443]\n",
            "phi_dot_psi:  [0.33582152 1.45766421 2.30608443]\n",
            "gelu_tanh(x_prime) =  [-0.01585868  1.45591211  2.20158061]\n",
            "\n",
            "Error of GELU n = 5 against tanh: 0.2118199525143093\n",
            "\n",
            "Error of phi_dot_psi against GELU n = 5: 9.809465989410858e-15\n"
          ]
        }
      ]
    },
    {
      "cell_type": "markdown",
      "source": [
        "# Victor: Unbiased estimation using neural networks"
      ],
      "metadata": {
        "id": "4Crw0r59IRWh"
      }
    },
    {
      "cell_type": "code",
      "source": [
        "# Big idea: we train one big model that connects phi and psi only at the\n",
        "# final node, so we can easily remove the final node (to get our phi and psi),\n",
        "# return the final node in inference basically.\n",
        "\n",
        "import torch\n",
        "import torch.nn as nn\n",
        "import math\n",
        "from torch.utils.data import Dataset, DataLoader\n",
        "\n",
        "# 1. Data generation: GELU dataset\n",
        "class GeluDataset(Dataset):\n",
        "    def __init__(self, N, d):\n",
        "        # PyTorch gets us to focus on shape, and we do the transformations\n",
        "        # ourselves if we want to shift\n",
        "        #\n",
        "        # Each x gets its own W\n",
        "        self.W = torch.randn(N, d, d)\n",
        "        self.x = torch.randn(N, d)\n",
        "        # In other words: Z[b, i] = sum_j (W[b, i, j] * x[b, j])\n",
        "        #\n",
        "        # 'bj -> bi' is a compact way to express which dimension (j) to dot over.\n",
        "        # 'bi' is the destination shape: one output per i, for each example b.\n",
        "        # We're summing over 'j' — which corresponds to W's columns — to merge it away.\n",
        "        Z = torch.einsum('bij,bj->bi', self.W, self.x)\n",
        "        self.y = 0.5 * Z * (1 + torch.erf(Z / math.sqrt(2)))\n",
        "\n",
        "    def __len__(self):\n",
        "        return len(self.x)\n",
        "\n",
        "    def __getitem__(self, idx):\n",
        "        return self.W[idx], self.x[idx], self.y[idx]\n",
        "\n",
        "# 2. Ψ-network: x -> m features\n",
        "class PsiNet(nn.Module):\n",
        "    def __init__(self, d, m, hidden=64):\n",
        "        super().__init__()\n",
        "        # Visaully, a line of nodes\n",
        "        self.net = nn.Sequential(\n",
        "            # Learn a bunch of numbers: project input x ∈ ℝᵈ into a hidden space.\n",
        "            # If d < hidden, we're expanding — giving the network more room to model patterns.\n",
        "            # If d > hidden, we're compressing — forcing the network to extract essentials.\n",
        "            # In both cases, hidden=64 implicitly says: \"64 features is the sweet spot\" for representing each example.\n",
        "            nn.Linear(d, hidden),\n",
        "            # max(0, x) makes the network nonlinear — it breaks additivity and homogeneity.\n",
        "            # That means we can no longer collapse it into one big linear transformation.\n",
        "            #\n",
        "            # Now, the network becomes a series of \"maybe this, not that\" filters.\n",
        "            # At each layer, ReLU adds a hard yes/no — some signals don’t make it through.\n",
        "            nn.ReLU(),\n",
        "            # arbitrarily say m is the perfect ending\n",
        "            nn.Linear(hidden, m)\n",
        "        )\n",
        "\n",
        "    def forward(self, x):\n",
        "        return self.net(x)\n",
        "\n",
        "# 3. Φ-network: W -> d × m matrix (row-wise MLP)\n",
        "# d is not example's d, it's batch-aware, see\n",
        "#         ψ = psi(xb)                      # (B, m)\n",
        "#Φ = phi(Wb)\n",
        "class PhiNet(nn.Module):\n",
        "    def __init__(self, d, m, hidden=64):\n",
        "        super().__init__()\n",
        "        self.net = nn.Sequential(\n",
        "            nn.Linear(d, hidden),\n",
        "            nn.ReLU(),\n",
        "            nn.Linear(hidden, m)\n",
        "        )\n",
        "\n",
        "    # we learnt for all W, but apply it independently to each W\n",
        "    def forward(self, W):\n",
        "        B, D, _ = W.shape\n",
        "        W_flat = W.reshape(B * D, D)\n",
        "        out_flat = self.net(W_flat)            # (B*D, m)\n",
        "        return out_flat.view(B, D, -1)         # (B, d, m)\n",
        "\n",
        "# Hyperparameters\n",
        "d, m, N, batch_size, epochs = 2, 16, 1024, 64, 5\n",
        "\n",
        "# Prepare DataLoader\n",
        "dataset = GeluDataset(N, d)\n",
        "loader  = DataLoader(dataset, batch_size=batch_size, shuffle=True)\n",
        "\n",
        "# Instantiate models.\n",
        "psi = PsiNet(d, m)\n",
        "phi = PhiNet(d, m)\n",
        "\n",
        "# Optimizer & loss\n",
        "optimizer = torch.optim.Adam(list(psi.parameters()) + list(phi.parameters()), lr=1e-3)\n",
        "criterion = nn.MSELoss()\n",
        "\n",
        "# Training loop\n",
        "for epoch in range(1, epochs+1):\n",
        "    total_loss = 0.0\n",
        "    for Wb, xb, yb in loader:\n",
        "        optimizer.zero_grad()\n",
        "        # we feed phi and psi batches - basically back to back into one row\n",
        "        # once the object is declared, it assumes minibatches when you call obj(minibatch), and updates the underlying nodes\n",
        "        ψ = psi(xb)                      # (B, m)\n",
        "        Φ = phi(Wb)                      # (B, d, m)\n",
        "\n",
        "        # PyTorch builds one big comp graph for the forward pass,\n",
        "        # joining the two nets. Mini-batch also useful for speed.\n",
        "        #\n",
        "        # bmm is batch matrix mult, 3d to 3d; add dummy axis then remove\n",
        "        # TODO(vyl): convert to einsum, prefer that\n",
        "        y_pred = torch.bmm(Φ, ψ.unsqueeze(-1)).squeeze(-1)  # (B, d)\n",
        "\n",
        "        # Under the hood, each nn.Module (my two nets) registers its own weights\n",
        "        # as nn.Parameter, and PyTorch’s autograd links them into one big\n",
        "        # computation graph.\n",
        "\n",
        "        # When I backprop, every parameter’s .grad is filled\n",
        "        loss = criterion(y_pred, yb)\n",
        "        loss.backward()\n",
        "        # When I step, the optimizer loops over them all to the update rule.\n",
        "        #     optimizer.step() actually updates phi and psi using loss\n",
        "        optimizer.step()\n",
        "        total_loss += loss.item() * Wb.size(0)\n",
        "\n",
        "      # Key insight: under the hood, PyTorch builds a computation graph.\n",
        "      # So we can write code declaratively — just describe what happens.\n",
        "      # During .backward(), PyTorch walks the graph in reverse and computes gradients.\n",
        "        #         ψ = psi(xb)         # → Tensor with attached grad_fn\n",
        "        # Φ = phi(Wb)         # → Another Tensor with grad_fn\n",
        "        # y_pred = bmm(Φ, ψ)  # → Graph combines both paths\n",
        "        # loss = criterion(y_pred, yb)\n",
        "    print(f\"Epoch {epoch}: MSE = {total_loss / N:.4f}\")"
      ],
      "metadata": {
        "colab": {
          "base_uri": "https://localhost:8080/"
        },
        "id": "8tSiY-i9Rcjk",
        "outputId": "b4cdd316-f904-414a-f797-7ba4b6e938be"
      },
      "execution_count": null,
      "outputs": [
        {
          "output_type": "stream",
          "name": "stdout",
          "text": [
            "Epoch 1: MSE = 0.8069\n",
            "Epoch 2: MSE = 0.3371\n",
            "Epoch 3: MSE = 0.1785\n",
            "Epoch 4: MSE = 0.1396\n",
            "Epoch 5: MSE = 0.1193\n"
          ]
        }
      ]
    },
    {
      "cell_type": "code",
      "source": [
        "# Testing this...\n",
        "\n",
        "import numpy as np\n",
        "def gelu_tanh(x):\n",
        "    return 0.5 * x * (1 + np.tanh(np.sqrt(2/np.pi) * (x + 0.044715 * np.power(x, 3))))\n",
        "\n",
        "# Inference on a new pair\n",
        "with torch.no_grad():\n",
        "    W_test = torch.randn(1, d, d)\n",
        "    x_test = torch.randn(1, d)\n",
        "    ψ_test = psi(x_test)                      # (1, m)\n",
        "    Φ_test = phi(W_test)                      # (1, d, m)\n",
        "    y_approx = torch.bmm(Φ_test, ψ_test.unsqueeze(-1)).squeeze().numpy()\n",
        "    print(\"y_approx =\", y_approx)\n",
        "    print(\"y_true =\", gelu_tanh(W_test @ x_test.T))"
      ],
      "metadata": {
        "colab": {
          "base_uri": "https://localhost:8080/"
        },
        "id": "c56_ml0DUySO",
        "outputId": "22962a13-7da6-4dbc-f09d-946a98575f80"
      },
      "execution_count": null,
      "outputs": [
        {
          "output_type": "stream",
          "name": "stdout",
          "text": [
            "y_approx = [-0.11181282  0.18113723]\n",
            "y_true = tensor([[[-0.1460],\n",
            "         [ 0.1667]]])\n"
          ]
        },
        {
          "output_type": "stream",
          "name": "stderr",
          "text": [
            "<ipython-input-2-dc9e478d3b1f>:5: DeprecationWarning: __array_wrap__ must accept context and return_scalar arguments (positionally) in the future. (Deprecated NumPy 2.0)\n",
            "  return 0.5 * x * (1 + np.tanh(np.sqrt(2/np.pi) * (x + 0.044715 * np.power(x, 3))))\n"
          ]
        }
      ]
    },
    {
      "cell_type": "markdown",
      "source": [],
      "metadata": {
        "id": "juqg65s1ITaz"
      }
    },
    {
      "cell_type": "markdown",
      "source": [
        "# Lisa: Biased Estimation Optimization"
      ],
      "metadata": {
        "id": "AcxB_jYvoTIt"
      }
    },
    {
      "cell_type": "markdown",
      "source": [
        "## **Reference Point Z_bar**\n",
        "\n",
        "\n",
        "A common deterministic (and therefore typically biased) approximation is something like a firstorder Taylor expansion. Concretely, for:\n",
        "\n",
        "\n",
        "$$\n",
        "y=\\operatorname{GELU}(W x) \\quad \\in \\mathrm{R}^d\n",
        "$$\n",
        "we pick a reference point $\\bar{x}$ (or equivalently $\\bar{z}=W \\bar{x}$ ) and do\n",
        "\n",
        "\n",
        "$$\n",
        "\\operatorname{GELU}(W x) \\approx \\operatorname{GELU}(\\bar{z})+\\operatorname{diag}\\left(\\operatorname{GELU}^{\\prime}(\\bar{z})\\right)[W(x-\\bar{x})]\n",
        "$$\n",
        "\n",
        "\n",
        "We can write that in the form\n",
        "\n",
        "\n",
        "$$\n",
        "\\Phi(W) \\Psi(x)\n",
        "$$\n",
        "by letting (for each dimension $d$ ):\n",
        "- $\\Phi(W)=\\left[\\operatorname{diag}\\left(\\operatorname{GELU}^{\\prime}(\\bar{z})\\right) W, \\operatorname{GELU}(\\bar{z})\\right]_{\\text {, }}$\n",
        "- $\\Psi(x)=\\left[\\begin{array}{c}x-\\bar{x} \\\\ 1\\end{array}\\right]$.\n",
        "\n"
      ],
      "metadata": {
        "id": "qHItLzITyePc"
      }
    },
    {
      "cell_type": "code",
      "source": [
        "\n",
        "d = 10\n",
        "\n",
        "x = np.random.normal(loc=0, scale=1, size=(d, 1))\n",
        "print(\"Layer shape of x: \", x.shape)\n",
        "print(x)\n",
        "\n",
        "W = np.random.normal(loc=0, scale=1, size=(d, d))\n",
        "print(\"Layer shape of W: \", W.shape)\n",
        "print(W)"
      ],
      "metadata": {
        "colab": {
          "base_uri": "https://localhost:8080/"
        },
        "id": "HBo3238K-7VD",
        "outputId": "fb59bb9a-9007-414f-dd91-4e00c4c0316a"
      },
      "execution_count": null,
      "outputs": [
        {
          "output_type": "stream",
          "name": "stdout",
          "text": [
            "Layer shape of x:  (10, 1)\n",
            "[[-0.54482853]\n",
            " [-0.63161671]\n",
            " [-0.91564961]\n",
            " [-1.61399943]\n",
            " [-0.32162195]\n",
            " [-0.99222462]\n",
            " [-0.43824675]\n",
            " [-1.00634214]\n",
            " [-0.67069234]\n",
            " [-0.52997316]]\n",
            "Layer shape of W:  (10, 10)\n",
            "[[ 0.15442335  0.3980553  -0.52444445 -0.98954088  0.20999811  0.71897845\n",
            "   0.02773517  0.64994208  0.60642394 -0.36017352]\n",
            " [-0.22911784  0.68378315 -0.54357769  0.70303585  0.67343318  0.56204901\n",
            "   2.0718752  -0.61541612 -0.57229049 -0.06937265]\n",
            " [-0.33748318  0.91634761  0.72224767  0.23208452 -0.19391651 -0.06156583\n",
            "  -0.64269339  0.97637855 -0.91726821  0.35681976]\n",
            " [-1.76898045 -1.70892249  1.19247607  0.46073594 -0.89124224 -0.88789947\n",
            "  -0.04999247 -0.6534811   0.28152786  1.34730197]\n",
            " [-1.03744554 -1.21432242 -1.41537019 -0.50120456 -0.21842279 -0.2192634\n",
            "   1.3374741  -0.21391763 -1.56546067  0.43102527]\n",
            " [-0.09136713  1.04181634  0.33211971  0.91217382 -1.77372231 -0.62776832\n",
            "  -0.93404803 -0.5788386  -0.03663755 -0.09564729]\n",
            " [ 1.08729511 -0.00797789 -0.1177749  -0.39806573  0.10057281 -1.26703629\n",
            "   0.37581151 -0.41216408 -0.72390825  0.47263072]\n",
            " [ 1.46470698  0.60407206  0.14269414  1.12025428 -0.47792797 -1.87571796\n",
            "  -1.35177148 -0.59309435 -0.60358935 -0.21174922]\n",
            " [-0.84238441 -0.13935025 -0.64438236 -0.61982896  0.3506893  -2.06647539\n",
            "  -0.42201822  1.52535123 -0.98730535 -0.07278492]\n",
            " [ 0.32715062 -0.95017431  0.49669688 -0.94156317 -0.98754721 -0.43438677\n",
            "  -0.02161017  1.50938872 -0.71060865 -0.55376587]]\n"
          ]
        }
      ]
    },
    {
      "cell_type": "code",
      "source": [
        "reference_point_z_bar = np.matmul(W, x)\n",
        "print(\"reference_point_z_bar shape: \", reference_point_z_bar.shape)\n",
        "print(\"reference_point_z_bar: \", reference_point_z_bar)"
      ],
      "metadata": {
        "colab": {
          "base_uri": "https://localhost:8080/"
        },
        "id": "kyJ1C9kd9Ld6",
        "outputId": "37bc8e14-5733-45a8-c789-d9cab1fb83df"
      },
      "execution_count": null,
      "outputs": [
        {
          "output_type": "stream",
          "name": "stdout",
          "text": [
            "reference_point_z_bar shape:  (10, 1)\n",
            "reference_point_z_bar:  [[ 0.07878448]\n",
            " [-1.58637833]\n",
            " [-1.58217787]\n",
            " [ 1.15197815]\n",
            " [ 4.17559271]\n",
            " [-0.12413107]\n",
            " [ 1.8729242 ]\n",
            " [ 0.60285136]\n",
            " [ 3.4256965 ]\n",
            " [ 1.49600314]]\n"
          ]
        }
      ]
    },
    {
      "cell_type": "markdown",
      "source": [
        "\n",
        "\n",
        "```\n",
        "# This is formatted as code\n",
        "```\n",
        "\n",
        "**The Derivative of GELU (tanh approximation) is:**\n",
        "\n",
        "$\n",
        "\\frac{\\tanh\\left(\\frac{\\sqrt{2} \\left(\\frac{8943x^{3}}{200000} + x\\right)}{\\sqrt{\\pi}}\\right) + 1}{2} + \\frac{x \\left(\\frac{26829x^{2}}{200000} + 1\\right) \\operatorname{sech}^{2}\\left(\\frac{\\sqrt{2} \\left(\\frac{8943x^{3}}{200000} + x\\right)}{\\sqrt{\\pi}}\\right)}{\\sqrt{2} \\sqrt{\\pi}}\n",
        "$"
      ],
      "metadata": {
        "id": "KTCI--yFJf2I"
      }
    },
    {
      "cell_type": "markdown",
      "source": [
        "\n",
        "- $\\Phi(W)=\\left[\\operatorname{diag}\\left(\\operatorname{GELU}^{\\prime}(\\bar{z})\\right) W, \\operatorname{GELU}(\\bar{z})\\right]_{\\text {, }}$\n",
        "- $\\Psi(x)=\\left[\\begin{array}{c}x-\\bar{x} \\\\ 1\\end{array}\\right]$."
      ],
      "metadata": {
        "id": "z1T14EaGL9sB"
      }
    },
    {
      "source": [
        "#import sympy\n",
        "# Use sympy functions for symbolic calculations, including sympy.tanh and sympy.sqrt\n",
        "#f = 0.5 * x * (1 + np.tanh(np.sqrt(2 / np.pi) * (x + 0.044715 * x**3)))\n",
        "#df_dx = sympy.diff(f, x)\n",
        "\n",
        "def sech(x):\n",
        "  #just sech(x)\n",
        "  return 1 / np.cosh(x)\n",
        "\n",
        "def df_dx(x):\n",
        "  df_dx = (np.tanh((np.sqrt(2) * ((8943 * x**3) / 200000 + x)) / np.sqrt(np.pi)) + 1) / 2 + (x * ((26829 * x**2) / 200000 + 1) * sech((np.sqrt(2) * ((8943 * x**3) / 200000 + x)) / np.sqrt(np.pi))**2) / (np.sqrt(2) * np.sqrt(np.pi))\n",
        "  return df_dx\n",
        "\n",
        "print(\"original equation: 0.5 * x * (1 + tanh(sqrt(2 /π) * (x + 0.044715 * x**3)))\" )\n",
        "print(\"\")\n",
        "print(\"shape of derivative equation output: \", df_dx(reference_point_z_bar).shape)\n",
        "print(\"derivative equation output: \", df_dx(reference_point_z_bar))\n",
        "\n",
        "#\n",
        "#print(\"\")\n",
        "#print(\"derivative at reference point: \", df_dx_at_reference_point_z_bar)"
      ],
      "cell_type": "code",
      "metadata": {
        "colab": {
          "base_uri": "https://localhost:8080/"
        },
        "id": "Bm49428APH5R",
        "outputId": "62a0c879-852b-4856-d4ba-4bd242f2d190"
      },
      "execution_count": null,
      "outputs": [
        {
          "output_type": "stream",
          "name": "stdout",
          "text": [
            "original equation: 0.5 * x * (1 + tanh(sqrt(2 /π) * (x + 0.044715 * x**3)))\n",
            "\n",
            "shape of derivative equation output:  (10, 1)\n",
            "derivative equation output:  [[ 0.5627304 ]\n",
            " [-0.12389785]\n",
            " [-0.12413379]\n",
            " [ 1.11175594]\n",
            " [ 1.00015044]\n",
            " [ 0.40146715]\n",
            " [ 1.09960235]\n",
            " [ 0.92704488]\n",
            " [ 1.00313472]\n",
            " [ 1.12783005]]\n"
          ]
        }
      ]
    },
    {
      "cell_type": "code",
      "source": [
        "phi = [np.matmul(np.diag(df_dx(reference_point_z_bar)), W), gelu_tanh(reference_point_z_bar)]\n",
        "print(\"diag: \", np.diag(df_dx(reference_point_z_bar)).shape)\n",
        "print(\"W: \", W.shape)\n",
        "\n",
        "psi = [x - reference_point_z_bar, 1]\n",
        "print(\"phi shape: \", phi.shape)\n",
        "print(\"phi: \", phi)\n",
        "print(\"psi shape: \", psi.shape)\n",
        "print(\"psi: \", psi)"
      ],
      "metadata": {
        "colab": {
          "base_uri": "https://localhost:8080/",
          "height": 218
        },
        "id": "jVamEGieNDeY",
        "outputId": "4268200e-04a6-46f0-c6c4-018e7321a573"
      },
      "execution_count": null,
      "outputs": [
        {
          "output_type": "error",
          "ename": "ValueError",
          "evalue": "matmul: Input operand 1 has a mismatch in its core dimension 0, with gufunc signature (n?,k),(k,m?)->(n?,m?) (size 10 is different from 1)",
          "traceback": [
            "\u001b[0;31m---------------------------------------------------------------------------\u001b[0m",
            "\u001b[0;31mValueError\u001b[0m                                Traceback (most recent call last)",
            "\u001b[0;32m<ipython-input-16-29e57309723b>\u001b[0m in \u001b[0;36m<cell line: 0>\u001b[0;34m()\u001b[0m\n\u001b[0;32m----> 1\u001b[0;31m \u001b[0mphi\u001b[0m \u001b[0;34m=\u001b[0m \u001b[0;34m[\u001b[0m\u001b[0mnp\u001b[0m\u001b[0;34m.\u001b[0m\u001b[0mmatmul\u001b[0m\u001b[0;34m(\u001b[0m\u001b[0mnp\u001b[0m\u001b[0;34m.\u001b[0m\u001b[0mdiag\u001b[0m\u001b[0;34m(\u001b[0m\u001b[0mdf_dx\u001b[0m\u001b[0;34m(\u001b[0m\u001b[0mreference_point_z_bar\u001b[0m\u001b[0;34m)\u001b[0m\u001b[0;34m)\u001b[0m\u001b[0;34m,\u001b[0m \u001b[0mW\u001b[0m\u001b[0;34m)\u001b[0m\u001b[0;34m,\u001b[0m \u001b[0mgelu_tanh\u001b[0m\u001b[0;34m(\u001b[0m\u001b[0mreference_point_z_bar\u001b[0m\u001b[0;34m)\u001b[0m\u001b[0;34m]\u001b[0m\u001b[0;34m\u001b[0m\u001b[0;34m\u001b[0m\u001b[0m\n\u001b[0m\u001b[1;32m      2\u001b[0m \u001b[0mprint\u001b[0m\u001b[0;34m(\u001b[0m\u001b[0;34m\"diag: \"\u001b[0m\u001b[0;34m,\u001b[0m \u001b[0mnp\u001b[0m\u001b[0;34m.\u001b[0m\u001b[0mdiag\u001b[0m\u001b[0;34m(\u001b[0m\u001b[0mdf_dx\u001b[0m\u001b[0;34m(\u001b[0m\u001b[0mreference_point_z_bar\u001b[0m\u001b[0;34m)\u001b[0m\u001b[0;34m)\u001b[0m\u001b[0;34m.\u001b[0m\u001b[0mshape\u001b[0m\u001b[0;34m)\u001b[0m\u001b[0;34m\u001b[0m\u001b[0;34m\u001b[0m\u001b[0m\n\u001b[1;32m      3\u001b[0m \u001b[0mprint\u001b[0m\u001b[0;34m(\u001b[0m\u001b[0;34m\"W: \"\u001b[0m\u001b[0;34m,\u001b[0m \u001b[0mW\u001b[0m\u001b[0;34m.\u001b[0m\u001b[0mshape\u001b[0m\u001b[0;34m)\u001b[0m\u001b[0;34m\u001b[0m\u001b[0;34m\u001b[0m\u001b[0m\n\u001b[1;32m      4\u001b[0m \u001b[0;34m\u001b[0m\u001b[0m\n\u001b[1;32m      5\u001b[0m \u001b[0mpsi\u001b[0m \u001b[0;34m=\u001b[0m \u001b[0;34m[\u001b[0m\u001b[0mx\u001b[0m \u001b[0;34m-\u001b[0m \u001b[0mreference_point_z_bar\u001b[0m\u001b[0;34m,\u001b[0m \u001b[0;36m1\u001b[0m\u001b[0;34m]\u001b[0m\u001b[0;34m\u001b[0m\u001b[0;34m\u001b[0m\u001b[0m\n",
            "\u001b[0;31mValueError\u001b[0m: matmul: Input operand 1 has a mismatch in its core dimension 0, with gufunc signature (n?,k),(k,m?)->(n?,m?) (size 10 is different from 1)"
          ]
        }
      ]
    },
    {
      "cell_type": "markdown",
      "source": [
        "**This concludes the biased section**"
      ],
      "metadata": {
        "id": "cR1RlDftIc1A"
      }
    },
    {
      "cell_type": "markdown",
      "source": [
        "# Jicheol: Unbiased estimation"
      ],
      "metadata": {
        "id": "deiVRpArp22G"
      }
    },
    {
      "cell_type": "markdown",
      "source": [
        "TODO: These get better with more attempts (e.g. Monte Carlo-based approximation)."
      ],
      "metadata": {
        "id": "pLJhmMvXqI0n"
      }
    },
    {
      "cell_type": "markdown",
      "source": [
        "## **Approximating GELU using Monte Carlo simulation of sample size alpha = N and 1D variable x**"
      ],
      "metadata": {
        "id": "6HbFiIVIDWQc"
      }
    },
    {
      "cell_type": "markdown",
      "source": [
        "## GELU Interpretation\n",
        "\\begin{equation}\n",
        "\\begin{aligned}\n",
        "&\\begin{aligned}\n",
        "\\operatorname{GELU}(z) & =x \\Phi(x), x \\in \\mathbb{R} \\\\\n",
        "& =x \\cdot P(z \\leq x), Z \\sim N(0,1) \\\\\n",
        "& =x \\cdot E[1\\{z \\leq x\\}], \\text { where } 1(x)= \\begin{cases}1, & z \\leq x \\\\\n",
        "0, & z>x \\\\\\end{cases}\n",
        "& \\approx x \\cdot \\frac{1}{N} \\sum_{i=1}^N 1_{z_i \\leq x} \\end{aligned}\\\\\n",
        "&\\text { and as } N \\rightarrow \\infty \\text { this converges to } \\operatorname{GELU}(x)\n",
        "\\end{aligned}\n",
        "\\end{equation}"
      ],
      "metadata": {
        "id": "iutGqm6QKkEv"
      }
    },
    {
      "cell_type": "markdown",
      "source": [
        "Given W_x is interpreted as:\n",
        "\n",
        "\n",
        "\\begin{equation}\n",
        "w_x=\n",
        "\\begin{bmatrix}\n",
        "    \\omega_{x_{1,1}} & \\omega_{x_{1,2}} & \\omega_{x_{1,3}} & \\dots  & \\omega_{x_{1,n}} \\\\\n",
        "    \\omega_{x_{2,1}} & \\omega_{x_{2,2}} & \\omega_{x_{2,3}} & \\dots  & \\omega_{x_{2,n}} \\\\\n",
        "    \\vdots & \\vdots & \\vdots & \\ddots & \\vdots \\\\\n",
        "    \\omega_{x_{d,1}} & \\omega_{x_{d,2}} & \\omega_{x_{d,3}} & \\dots  & \\omega_{x_{d,n}}\n",
        "\\end{bmatrix}\n",
        "\\end{equation}\n",
        "\n",
        "\n"
      ],
      "metadata": {
        "id": "28vxqZ5bOyFw"
      }
    },
    {
      "cell_type": "markdown",
      "source": [
        "**We want to find $\\Phi(\\omega)$ and $\\psi(x)$ s.t.**\n",
        "$$\n",
        "\\begin{array}{cl}\n",
        "f\\left(w_x\\right)_{i j}=\\left(w_x\\right)_{i j} \\cdot \\Phi\\left(\\left(w_x\\right)_{i j}\\right) & i=1, \\ldots R \\\\ & j =1, \\ldots D \\\\\n",
        "\\text { or } f\\left(w_x\\right)=w_x \\odot \\Phi\\left(w_x\\right) &\n",
        "\\end{array}\n",
        "$$\n",
        "\n",
        "$ \\odot $ here is an elementwise product. total of RD elementwise approximations.\n"
      ],
      "metadata": {
        "id": "youdNmHLSN1h"
      }
    },
    {
      "cell_type": "markdown",
      "source": [
        "\n",
        "\\begin{aligned}\n",
        "\\therefore f\\left(w_x\\right)_{i j} & =\\operatorname{GELU}\\left(\\left(w_x\\right)_{i j}\\right) \\\\\n",
        "& \\approx \\frac{1}{N} \\sum\\left(w_x\\right)_{i j} \\cdot 1 z_k^{i j} \\leq\\left(w_x\\right)_{i j}, z_k^{(i j)} \\backsim N(0,1)\n",
        "\\end{aligned}"
      ],
      "metadata": {
        "id": "NYkPcW2z_z2X"
      }
    },
    {
      "cell_type": "markdown",
      "source": [
        "**So we would like to find a solution to accomodate W_x:**\n",
        "$$\n",
        "G\\left(w_x{(i, j)}\\right) \\approx \\frac{1}{\\sqrt{2 \\pi}} \\sum_{n=0}^{\\infty} \\frac{(-1)^n}{2^n n!(2 n+1)}\\left(w_x{(i,j)}\\right)^{2 n+1}\n",
        "$$"
      ],
      "metadata": {
        "id": "5Rs2c0MoASgL"
      }
    },
    {
      "cell_type": "code",
      "source": [
        "# Output is an unbiased estimator of the true value\n",
        "def gelu_MC(x, N):\n",
        "    success = 0\n",
        "    for _ in range(N):\n",
        "        z = np.random.normal(0, 1)\n",
        "        if z <= x:\n",
        "            success += 1\n",
        "    return (success / N) * x\n",
        "\n",
        "print(\"Monte Carlo approximation:\", gelu_MC(x,n)) #this value changes every time due to random sampling"
      ],
      "metadata": {
        "id": "ikn9Ev1rrUyB",
        "colab": {
          "base_uri": "https://localhost:8080/",
          "height": 176
        },
        "outputId": "c15d1955-6f78-4acf-a7ab-73366d230841"
      },
      "execution_count": null,
      "outputs": [
        {
          "output_type": "error",
          "ename": "NameError",
          "evalue": "name 'x' is not defined",
          "traceback": [
            "\u001b[0;31m---------------------------------------------------------------------------\u001b[0m",
            "\u001b[0;31mNameError\u001b[0m                                 Traceback (most recent call last)",
            "\u001b[0;32m<ipython-input-1-e44806e8089d>\u001b[0m in \u001b[0;36m<cell line: 0>\u001b[0;34m()\u001b[0m\n\u001b[1;32m      8\u001b[0m     \u001b[0;32mreturn\u001b[0m \u001b[0;34m(\u001b[0m\u001b[0msuccess\u001b[0m \u001b[0;34m/\u001b[0m \u001b[0mN\u001b[0m\u001b[0;34m)\u001b[0m \u001b[0;34m*\u001b[0m \u001b[0mx\u001b[0m\u001b[0;34m\u001b[0m\u001b[0;34m\u001b[0m\u001b[0m\n\u001b[1;32m      9\u001b[0m \u001b[0;34m\u001b[0m\u001b[0m\n\u001b[0;32m---> 10\u001b[0;31m \u001b[0mprint\u001b[0m\u001b[0;34m(\u001b[0m\u001b[0;34m\"Monte Carlo approximation:\"\u001b[0m\u001b[0;34m,\u001b[0m \u001b[0mgelu_MC\u001b[0m\u001b[0;34m(\u001b[0m\u001b[0mx\u001b[0m\u001b[0;34m,\u001b[0m\u001b[0mn\u001b[0m\u001b[0;34m)\u001b[0m\u001b[0;34m)\u001b[0m \u001b[0;31m#this value changes every time due to random sampling\u001b[0m\u001b[0;34m\u001b[0m\u001b[0;34m\u001b[0m\u001b[0m\n\u001b[0m",
            "\u001b[0;31mNameError\u001b[0m: name 'x' is not defined"
          ]
        }
      ]
    }
  ]
}